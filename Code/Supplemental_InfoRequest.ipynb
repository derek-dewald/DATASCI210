{
 "cells": [
  {
   "cell_type": "code",
   "execution_count": 2,
   "id": "1f328c57-dc7c-4567-b353-4b7b84aed11b",
   "metadata": {},
   "outputs": [],
   "source": [
    "api_key = 'JUQBES238PMPJKI2EJWAJJ2V8973EMCEZH'\n",
    "\n",
    "\n",
    "import pandas as pd\n",
    "import numpy as np\n",
    "import os\n",
    "import datetime\n",
    "import matplotlib.pyplot as plt\n",
    "import math\n",
    "import time\n",
    "import requests\n",
    "\n",
    "from scipy.stats.mstats import winsorize\n",
    "\n",
    "pd.set_option('display.float_format', '{:.2f}'.format)\n",
    "\n",
    "\n",
    "def fetch_transaction_details(tx_id,\n",
    "                              api_key,\n",
    "                              etherscan_url = 'https://api.etherscan.io/api',\n",
    "                              rate_limit=5):\n",
    "    params = {\n",
    "        'module': 'proxy',\n",
    "        'action': 'eth_getTransactionByHash',\n",
    "        'txhash': tx_id,\n",
    "        'apikey': api_key\n",
    "    }\n",
    "        \n",
    "    response = requests.get(etherscan_url, params=params)\n",
    "    data = response.json()\n",
    "\n",
    "    try:\n",
    "        if 'input' in data['result']:\n",
    "            del data['result']['input']\n",
    "        return transaction_to_dataframe(data['result'])\n",
    "    except:\n",
    "        pass\n",
    "\n",
    "def hex_to_int(hex_str):\n",
    "    try:\n",
    "        return int(hex_str, 16) if hex_str.startswith('0x') else hex_str\n",
    "    except ValueError:\n",
    "        return hex_str\n",
    "\n",
    "# Function to convert transaction data to DataFrame\n",
    "def transaction_to_dataframe(transaction_data):\n",
    "    # Convert hex values to integers where applicable, but keep large numbers as strings\n",
    "    for key, value in transaction_data.items():\n",
    "        if isinstance(value, str) and value.startswith('0x'):\n",
    "            if key in ['blockNumber', 'gas', 'nonce', 'transactionIndex', 'chainId']:\n",
    "                transaction_data[key] = hex_to_int(value)\n",
    "            else:\n",
    "                # Keep the value as string if it's too large to handle as an integer\n",
    "                try:\n",
    "                    transaction_data[key] = hex_to_int(value)\n",
    "                except OverflowError:\n",
    "                    pass\n",
    "\n",
    "    # Create a DataFrame from the dictionary\n",
    "    df = pd.DataFrame([transaction_data])\n",
    "    \n",
    "    return df"
   ]
  },
  {
   "cell_type": "code",
   "execution_count": null,
   "id": "f6760551-3327-4cfb-a180-1d9e8a44185d",
   "metadata": {},
   "outputs": [],
   "source": [
    "# Import Existing Transaction Number, this query pulls Supplemental Info when KNOWNING a Transction ID"
   ]
  },
  {
   "cell_type": "code",
   "execution_count": 14,
   "id": "fca4b59c-7a3f-4fb9-b0ed-10f251ab21b3",
   "metadata": {},
   "outputs": [
    {
     "name": "stdout",
     "output_type": "stream",
     "text": [
      "0\n"
     ]
    }
   ],
   "source": [
    "\n",
    "df = pd.read_csv('Arbitrage_Files//arbitrage_20230611_20240613_WETH_USDC_57.csv')\n",
    "\n",
    "\n",
    "tran1 = df[df['p1.transaction_id'].notnull()][['p1.transaction_id']].rename(columns={'p1.transaction_id':\"TRANSACTION_ID\"})\n",
    "tran2 = df[df['p0.transaction_id'].notnull()][['p0.transaction_id']].rename(columns={'p0.transaction_id':\"TRANSACTION_ID\"})\n",
    "\n",
    "final_tran = pd.concat([tran1,tran2]).drop_duplicates('TRANSACTION_ID')\n",
    "\n",
    "# Test Single\n",
    "#fetch_transaction_details(final_tran.iloc[0][0],api_key)\n",
    "\n",
    "rate_limit = 5\n",
    "start_time = time.time()\n",
    "final_df = pd.DataFrame()\n",
    "\n",
    "for count,transaction in enumerate(final_tran['TRANSACTION_ID']):\n",
    "    if (count + 1) % rate_limit == 0:\n",
    "        elapsed_time = time.time() - start_time\n",
    "        if elapsed_time < 1:\n",
    "            time.sleep(1 - elapsed_time)\n",
    "        start_time = time.time()\n",
    "    if count % 2500==0:\n",
    "        print(count)\n",
    "    final_df = pd.concat([final_df,fetch_transaction_details(transaction,api_key)])\n",
    "    pass"
   ]
  },
  {
   "cell_type": "code",
   "execution_count": 52,
   "id": "95bd9ec0-6b3f-4d8b-b133-f54062a0a1ec",
   "metadata": {},
   "outputs": [],
   "source": [
    "for i in final_df.columns:\n",
    "    final_df[i] = final_df[i].apply(lambda x:str(x))\n",
    "\n",
    "final_df.to_csv('pool_supplemental_transactions_52.csv',index=False)"
   ]
  }
 ],
 "metadata": {
  "kernelspec": {
   "display_name": "Python 3 (ipykernel)",
   "language": "python",
   "name": "python3"
  },
  "language_info": {
   "codemirror_mode": {
    "name": "ipython",
    "version": 3
   },
   "file_extension": ".py",
   "mimetype": "text/x-python",
   "name": "python",
   "nbconvert_exporter": "python",
   "pygments_lexer": "ipython3",
   "version": "3.11.5"
  }
 },
 "nbformat": 4,
 "nbformat_minor": 5
}
